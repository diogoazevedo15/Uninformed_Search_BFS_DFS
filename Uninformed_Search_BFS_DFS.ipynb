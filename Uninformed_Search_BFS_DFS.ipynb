{
 "cells": [
  {
   "cell_type": "code",
   "execution_count": null,
   "metadata": {},
   "outputs": [],
   "source": [
    "grafo = { \n",
    "    'A' : ( 'C' , 'B' ) ,\n",
    "    'B' : ( 'A' , 'D' , 'E' ),\n",
    "    'C' : ( 'A', 'F') ,\n",
    "    'D' : ( 'B' , 'G') ,\n",
    "    'E' : ( 'B' , 'F') ,\n",
    "    'F' : ( 'C' , 'E') ,\n",
    "    'G' : ( 'D' ) }"
   ]
  },
  {
   "cell_type": "code",
   "execution_count": 55,
   "metadata": {},
   "outputs": [],
   "source": [
    "def search_v1(graf,start,end,option):\n",
    "    \n",
    "    queue = [(start,[start])]\n",
    "    cicle = 1\n",
    "    print('start')\n",
    "    \n",
    "    while queue:\n",
    "        head = queue[0]  #(start,[start])\n",
    "        rest = queue[1:] #[(ex1,[ex1]),(ex2,[ex2]),(ex3,[ex3]), ...]\n",
    "        \n",
    "        print('--------------------------------- Cicle number {} ---------------------------------'.format(cicle))\n",
    "        print('Start Queue: ',queue)\n",
    "        print('head: ',head)\n",
    "        print('rest: ',rest)\n",
    "        \n",
    "        if head[0] == end:\n",
    "            print('**************************************** End ****************************************')\n",
    "            break\n",
    "            \n",
    "        else:\n",
    "            #Ir buscar os pontos adjacentes a Head. Eles vêm num tupulo\n",
    "            expand = graf[head[0]] #('A',['A']) #( 'C' , 'B' )\n",
    "            \n",
    "            #Passar esse tupulo para uma lista para eu poder edita-la\n",
    "            expand = list(expand)\n",
    "            print('expand:',expand)\n",
    "            \n",
    "            #Criar o expand que ficará assim tupolo: (Adjacente,[caminhoParaAdjacente])\n",
    "            addToQueue = []\n",
    "            for i, point in enumerate(expand):\n",
    "                print(point)\n",
    "                if point not in head[1]:\n",
    "                    #Aqui usamos o 'caminho + point' e nao o .append().\n",
    "                    #Ver diferença: https://stackoverflow.com/questions/10748158/why-does-not-the-operator-change-a-list-while-append-does\n",
    "                    addToQueue.append((expand[i],head[1] + [point]))\n",
    "                \n",
    "            if option == 0: #DFS\n",
    "                queue = sorted(addToQueue) + rest\n",
    "                print('New Queue:',queue)\n",
    "            else: #BFS\n",
    "                queue = rest + sorted(addToQueue)\n",
    "                print('New Queue:',queue)\n",
    "                \n",
    "        cicle = cicle + 1\n"
   ]
  },
  {
   "cell_type": "code",
   "execution_count": 56,
   "metadata": {},
   "outputs": [
    {
     "name": "stdout",
     "output_type": "stream",
     "text": [
      "start\n",
      "--------------------------------- Cicle number 1 ---------------------------------\n",
      "Start Queue:  [('A', ['A'])]\n",
      "head:  ('A', ['A'])\n",
      "rest:  []\n",
      "expand: ['C', 'B']\n",
      "C\n",
      "B\n",
      "New Queue: [('B', ['A', 'B']), ('C', ['A', 'C'])]\n",
      "--------------------------------- Cicle number 2 ---------------------------------\n",
      "Start Queue:  [('B', ['A', 'B']), ('C', ['A', 'C'])]\n",
      "head:  ('B', ['A', 'B'])\n",
      "rest:  [('C', ['A', 'C'])]\n",
      "expand: ['A', 'D', 'E']\n",
      "A\n",
      "D\n",
      "E\n",
      "New Queue: [('D', ['A', 'B', 'D']), ('E', ['A', 'B', 'E']), ('C', ['A', 'C'])]\n",
      "--------------------------------- Cicle number 3 ---------------------------------\n",
      "Start Queue:  [('D', ['A', 'B', 'D']), ('E', ['A', 'B', 'E']), ('C', ['A', 'C'])]\n",
      "head:  ('D', ['A', 'B', 'D'])\n",
      "rest:  [('E', ['A', 'B', 'E']), ('C', ['A', 'C'])]\n",
      "expand: ['B', 'G']\n",
      "B\n",
      "G\n",
      "New Queue: [('G', ['A', 'B', 'D', 'G']), ('E', ['A', 'B', 'E']), ('C', ['A', 'C'])]\n",
      "--------------------------------- Cicle number 4 ---------------------------------\n",
      "Start Queue:  [('G', ['A', 'B', 'D', 'G']), ('E', ['A', 'B', 'E']), ('C', ['A', 'C'])]\n",
      "head:  ('G', ['A', 'B', 'D', 'G'])\n",
      "rest:  [('E', ['A', 'B', 'E']), ('C', ['A', 'C'])]\n",
      "**************************************** End ****************************************\n"
     ]
    }
   ],
   "source": [
    "search_v1(grafo,'A','G',0)"
   ]
  },
  {
   "cell_type": "code",
   "execution_count": 57,
   "metadata": {},
   "outputs": [
    {
     "name": "stdout",
     "output_type": "stream",
     "text": [
      "start\n",
      "--------------------------------- Cicle number 1 ---------------------------------\n",
      "Start Queue:  [('A', ['A'])]\n",
      "head:  ('A', ['A'])\n",
      "rest:  []\n",
      "expand: ['C', 'B']\n",
      "C\n",
      "B\n",
      "New Queue: [('B', ['A', 'B']), ('C', ['A', 'C'])]\n",
      "--------------------------------- Cicle number 2 ---------------------------------\n",
      "Start Queue:  [('B', ['A', 'B']), ('C', ['A', 'C'])]\n",
      "head:  ('B', ['A', 'B'])\n",
      "rest:  [('C', ['A', 'C'])]\n",
      "expand: ['A', 'D', 'E']\n",
      "A\n",
      "D\n",
      "E\n",
      "New Queue: [('C', ['A', 'C']), ('D', ['A', 'B', 'D']), ('E', ['A', 'B', 'E'])]\n",
      "--------------------------------- Cicle number 3 ---------------------------------\n",
      "Start Queue:  [('C', ['A', 'C']), ('D', ['A', 'B', 'D']), ('E', ['A', 'B', 'E'])]\n",
      "head:  ('C', ['A', 'C'])\n",
      "rest:  [('D', ['A', 'B', 'D']), ('E', ['A', 'B', 'E'])]\n",
      "expand: ['A', 'F']\n",
      "A\n",
      "F\n",
      "New Queue: [('D', ['A', 'B', 'D']), ('E', ['A', 'B', 'E']), ('F', ['A', 'C', 'F'])]\n",
      "--------------------------------- Cicle number 4 ---------------------------------\n",
      "Start Queue:  [('D', ['A', 'B', 'D']), ('E', ['A', 'B', 'E']), ('F', ['A', 'C', 'F'])]\n",
      "head:  ('D', ['A', 'B', 'D'])\n",
      "rest:  [('E', ['A', 'B', 'E']), ('F', ['A', 'C', 'F'])]\n",
      "expand: ['B', 'G']\n",
      "B\n",
      "G\n",
      "New Queue: [('E', ['A', 'B', 'E']), ('F', ['A', 'C', 'F']), ('G', ['A', 'B', 'D', 'G'])]\n",
      "--------------------------------- Cicle number 5 ---------------------------------\n",
      "Start Queue:  [('E', ['A', 'B', 'E']), ('F', ['A', 'C', 'F']), ('G', ['A', 'B', 'D', 'G'])]\n",
      "head:  ('E', ['A', 'B', 'E'])\n",
      "rest:  [('F', ['A', 'C', 'F']), ('G', ['A', 'B', 'D', 'G'])]\n",
      "expand: ['B', 'F']\n",
      "B\n",
      "F\n",
      "New Queue: [('F', ['A', 'C', 'F']), ('G', ['A', 'B', 'D', 'G']), ('F', ['A', 'B', 'E', 'F'])]\n",
      "--------------------------------- Cicle number 6 ---------------------------------\n",
      "Start Queue:  [('F', ['A', 'C', 'F']), ('G', ['A', 'B', 'D', 'G']), ('F', ['A', 'B', 'E', 'F'])]\n",
      "head:  ('F', ['A', 'C', 'F'])\n",
      "rest:  [('G', ['A', 'B', 'D', 'G']), ('F', ['A', 'B', 'E', 'F'])]\n",
      "expand: ['C', 'E']\n",
      "C\n",
      "E\n",
      "New Queue: [('G', ['A', 'B', 'D', 'G']), ('F', ['A', 'B', 'E', 'F']), ('E', ['A', 'C', 'F', 'E'])]\n",
      "--------------------------------- Cicle number 7 ---------------------------------\n",
      "Start Queue:  [('G', ['A', 'B', 'D', 'G']), ('F', ['A', 'B', 'E', 'F']), ('E', ['A', 'C', 'F', 'E'])]\n",
      "head:  ('G', ['A', 'B', 'D', 'G'])\n",
      "rest:  [('F', ['A', 'B', 'E', 'F']), ('E', ['A', 'C', 'F', 'E'])]\n",
      "**************************************** End ****************************************\n"
     ]
    }
   ],
   "source": [
    "search_v1(grafo,'A','G',1)"
   ]
  },
  {
   "cell_type": "code",
   "execution_count": null,
   "metadata": {},
   "outputs": [],
   "source": [
    "[('G', ['A', 'B', 'D', 'G']), ('F', ['A', 'B', 'E', 'F']), ('E', ['A', 'C', 'F', 'E'])]\n",
    "[('G', ['A', 'B', 'D', 'G']), ('E', ['A', 'B', 'E']), ('C', ['A', 'C'])]"
   ]
  }
 ],
 "metadata": {
  "kernelspec": {
   "display_name": "Python 3",
   "language": "python",
   "name": "python3"
  },
  "language_info": {
   "codemirror_mode": {
    "name": "ipython",
    "version": 3
   },
   "file_extension": ".py",
   "mimetype": "text/x-python",
   "name": "python",
   "nbconvert_exporter": "python",
   "pygments_lexer": "ipython3",
   "version": "3.7.6"
  }
 },
 "nbformat": 4,
 "nbformat_minor": 4
}
